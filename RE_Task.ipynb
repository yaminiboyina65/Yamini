{
 "cells": [
  {
   "cell_type": "code",
   "execution_count": 1,
   "id": "48f505f8-faff-4600-bb87-11ac6f29f0f1",
   "metadata": {},
   "outputs": [
    {
     "name": "stdout",
     "output_type": "stream",
     "text": [
      "['support@example.com', 'john.doe123@company.org', 'jane_doe@domain.co.uk']\n"
     ]
    }
   ],
   "source": [
    "import re\n",
    "text = \"Contact us at support@example.com, john.doe123@company.org, or invalid-email@com. Also, try jane_doe@domain.co.uk.\"\n",
    "email_pattern=r'\\b[A-Za-z0-9][A-Za-z0-9._-]*@[A-Za-z0-9.-]+\\.[A-Za-z]{2,}\\b'\n",
    "emails=re.findall(email_pattern,text)\n",
    "print(emails)"
   ]
  },
  {
   "cell_type": "code",
   "execution_count": 3,
   "id": "1445f4c9-454e-4c72-930d-8ed8e9df06ee",
   "metadata": {},
   "outputs": [
    {
     "name": "stdout",
     "output_type": "stream",
     "text": [
      "['#Python', '#coding', '#100DaysOfCode', '#Regex_Challenge']\n"
     ]
    }
   ],
   "source": [
    "tweet = \"Learning #Python is fun! #coding #100DaysOfCode #Regex_Challenge\"\n",
    "hashtag_pattern=r'#\\w+'\n",
    "hashtags=re.findall(hashtag_pattern,tweet)\n",
    "print(hashtags)"
   ]
  },
  {
   "cell_type": "code",
   "execution_count": 5,
   "id": "e4e7e1ba-0276-43cc-ad09-f9cf6dc29750",
   "metadata": {},
   "outputs": [
    {
     "name": "stdout",
     "output_type": "stream",
     "text": [
      "WeakPass  -> Invalid\n",
      "Str0ng@Pass  -> Valid\n",
      "NoSpecial1  -> Invalid\n",
      "short!1  -> Invalid\n",
      "Secure#123  -> Invalid\n"
     ]
    }
   ],
   "source": [
    "passwords = [\"WeakPass\", \"Str0ng@Pass\", \"NoSpecial1\", \"short!1\", \"Secure#123\"]\n",
    "for password in passwords:\n",
    "    if (len(password)>=8 and  \n",
    "    re.search(r'[A-Z]',password) and \n",
    "    re.search(r'[a-z]',password) and \n",
    "    re.search(r'[0-9]',password) and \n",
    "    re.search(r'[@$!%*?&]',password)):\n",
    "        print(password,\" -> Valid\")\n",
    "    else:\n",
    "        print(password,\" -> Invalid\")"
   ]
  }
 ],
 "metadata": {
  "kernelspec": {
   "display_name": "Python [conda env:base] *",
   "language": "python",
   "name": "conda-base-py"
  },
  "language_info": {
   "codemirror_mode": {
    "name": "ipython",
    "version": 3
   },
   "file_extension": ".py",
   "mimetype": "text/x-python",
   "name": "python",
   "nbconvert_exporter": "python",
   "pygments_lexer": "ipython3",
   "version": "3.12.7"
  }
 },
 "nbformat": 4,
 "nbformat_minor": 5
}
